{
 "cells": [
  {
   "cell_type": "markdown",
   "metadata": {},
   "source": [
    "# Recuperar, Preparar e Prever\n",
    "\n",
    "O _out of time_ será semelhante ao que acontece na produção.\n"
   ]
  },
  {
   "cell_type": "code",
   "execution_count": 1,
   "metadata": {},
   "outputs": [],
   "source": [
    "import xml.etree.ElementTree as xml\n",
    "from os import listdir\n",
    "from os.path import isfile, join\n",
    "import pandas as pd\n",
    "import string\n",
    "import unicodedata\n",
    "from datetime import datetime\n",
    "from io import StringIO\n",
    "import re"
   ]
  },
  {
   "cell_type": "code",
   "execution_count": 2,
   "metadata": {},
   "outputs": [],
   "source": [
    "def efetuar_parse(texto):\n",
    "    'Limpar texto e tirar todos os prefixos de tags, retornando raiz do XML.'\n",
    "\n",
    "    # retirar quebras de linha e textos inuteis\n",
    "    texto = texto.replace(',', ' ') \\\n",
    "                 .replace('\\n', ' ') \\\n",
    "                 .replace('\\t', ' ') \\\n",
    "                 .lower()\n",
    "    \n",
    "    it = xml.iterparse(StringIO(texto))\n",
    "    for _, el in it:\n",
    "        if '}' in el.tag:\n",
    "            el.tag = el.tag.split('}', 1)[1] \\\n",
    "                           .replace('sov:', '')    \n",
    "        \n",
    "    return it.root"
   ]
  },
  {
   "cell_type": "code",
   "execution_count": 3,
   "metadata": {},
   "outputs": [],
   "source": [
    "uteis = ['homem', 'solteiro', 'tem_cnh', 'idioma-en-le', 'idioma-en-fala', 'skill_estagio', \n",
    "         'experiencia_meses', 'tempo_emprego', 'tempo_empresa', 'tempo_cargo', 'taxa_permanencia', 'tempo_municipio']"
   ]
  },
  {
   "cell_type": "markdown",
   "metadata": {},
   "source": [
    "recuperar arquivo xml"
   ]
  },
  {
   "cell_type": "code",
   "execution_count": 4,
   "metadata": {},
   "outputs": [],
   "source": [
    "dir_interesse = '/home/mourao/mudanca_emprego/data/out_of_time/curriculosComInteresse/'"
   ]
  },
  {
   "cell_type": "code",
   "execution_count": 5,
   "metadata": {},
   "outputs": [],
   "source": [
    "arquivos_interesse = [a for a in listdir(dir_interesse) if isfile(join(dir_interesse, a)) and '.xml' in a]"
   ]
  },
  {
   "cell_type": "code",
   "execution_count": 6,
   "metadata": {},
   "outputs": [],
   "source": [
    "arquivo = 'cv48023.xml'"
   ]
  },
  {
   "cell_type": "code",
   "execution_count": 7,
   "metadata": {
    "scrolled": false
   },
   "outputs": [],
   "source": [
    "with open(join(dir_interesse, arquivo), 'r') as r:\n",
    "        texto = r.read()"
   ]
  },
  {
   "cell_type": "code",
   "execution_count": 8,
   "metadata": {},
   "outputs": [],
   "source": [
    "# executar parse\n",
    "raiz = efetuar_parse(texto)"
   ]
  },
  {
   "cell_type": "markdown",
   "metadata": {},
   "source": [
    "identificar **sexo** e criar variável binária **homem**"
   ]
  },
  {
   "cell_type": "code",
   "execution_count": 9,
   "metadata": {
    "scrolled": false
   },
   "outputs": [],
   "source": [
    "sexo = raiz.find('.//gender')"
   ]
  },
  {
   "cell_type": "code",
   "execution_count": 10,
   "metadata": {},
   "outputs": [
    {
     "name": "stdout",
     "output_type": "stream",
     "text": [
      "0\n"
     ]
    }
   ],
   "source": [
    "if not sexo or sexo.text == 'female':\n",
    "    homem = 0\n",
    "else:\n",
    "    homem = 1\n",
    "\n",
    "print(homem)"
   ]
  },
  {
   "cell_type": "markdown",
   "metadata": {},
   "source": [
    "identificar **estado civil** e criar variável binária **solteiro**"
   ]
  },
  {
   "cell_type": "code",
   "execution_count": 11,
   "metadata": {},
   "outputs": [
    {
     "name": "stdout",
     "output_type": "stream",
     "text": [
      "0\n"
     ]
    }
   ],
   "source": [
    "estado_civil = raiz.find('*//maritalstatus')\n",
    "\n",
    "solteiro = 0\n",
    "if estado_civil:\n",
    "    if estado_civil.text == 'single' or estado_civil.text == 'separated' or estado_civil.text == 'divorced':\n",
    "        solteiro = 1\n",
    "\n",
    "print(solteiro)"
   ]
  },
  {
   "cell_type": "markdown",
   "metadata": {},
   "source": [
    "identificar **drivinglicense** e criar a variável binária **tem_cnh**"
   ]
  },
  {
   "cell_type": "code",
   "execution_count": 12,
   "metadata": {},
   "outputs": [
    {
     "name": "stdout",
     "output_type": "stream",
     "text": [
      "0\n"
     ]
    }
   ],
   "source": [
    "tem_cnh = 0\n",
    "if raiz.find('*//drivinglicense') is not None:\n",
    "    tem_cnh = 1\n",
    "\n",
    "print(tem_cnh)"
   ]
  },
  {
   "cell_type": "markdown",
   "metadata": {},
   "source": [
    "identificar **Language Read** para a língua inglesa e criar a variável binária **idioma-en-le**\n",
    "\n",
    "identificar **Language Speak** para a língua inglesa e criar a variável binária **idioma-en-fala**"
   ]
  },
  {
   "cell_type": "code",
   "execution_count": 13,
   "metadata": {},
   "outputs": [
    {
     "name": "stdout",
     "output_type": "stream",
     "text": [
      "0 1\n"
     ]
    }
   ],
   "source": [
    "idioma_en_le = 0\n",
    "idioma_en_fala = 0\n",
    "\n",
    "linguas = raiz.findall('*//language')\n",
    "for lingua in linguas:\n",
    "    \n",
    "    codigo = lingua.find('languagecode')\n",
    "    if codigo is not None and codigo.text == 'en':\n",
    "        \n",
    "        le = lingua.find('read')\n",
    "        if le is not None and le.text == 'true':\n",
    "            idioma_en_le = 1\n",
    "        \n",
    "        fala = lingua.find('speak')\n",
    "        if fala is not None and fala.text == 'true':\n",
    "            idioma_en_fala = 1\n",
    "            \n",
    "        break\n",
    "        \n",
    "print(idioma_en_le, idioma_en_fala)"
   ]
  },
  {
   "cell_type": "markdown",
   "metadata": {},
   "source": [
    "identificar dados de emprego de **employerorg** e guardá-los para efetuar cálculo das próximas variáveis"
   ]
  },
  {
   "cell_type": "code",
   "execution_count": 14,
   "metadata": {},
   "outputs": [],
   "source": [
    "employerorg = raiz.findall('*//employerorg')"
   ]
  },
  {
   "cell_type": "code",
   "execution_count": 15,
   "metadata": {},
   "outputs": [],
   "source": [
    "def monta_data(xml_date):\n",
    "    import datetime\n",
    "   \n",
    "    try:\n",
    "        dt = xml_date.find('anydate').text\n",
    "        mes = dt[5:7]\n",
    "        ano = dt[0:4]\n",
    "    except:\n",
    "        try:\n",
    "            dt = xml_date.find('yearmonth').text\n",
    "            mes = dt[5:7]\n",
    "            ano = dt[0:4]\n",
    "        except:\n",
    "            try:\n",
    "                dt = xml_date.find('year').text\n",
    "                ano = dt[0:4]\n",
    "                mes = 1                    \n",
    "            except:\n",
    "                mes = None\n",
    "                ano = None\n",
    "        \n",
    "    try:\n",
    "        data = datetime.date(int(ano), int(mes), 1)\n",
    "    except:\n",
    "        data = None\n",
    "    \n",
    "    return data "
   ]
  },
  {
   "cell_type": "code",
   "execution_count": 16,
   "metadata": {},
   "outputs": [
    {
     "data": {
      "text/html": [
       "<div>\n",
       "<style scoped>\n",
       "    .dataframe tbody tr th:only-of-type {\n",
       "        vertical-align: middle;\n",
       "    }\n",
       "\n",
       "    .dataframe tbody tr th {\n",
       "        vertical-align: top;\n",
       "    }\n",
       "\n",
       "    .dataframe thead th {\n",
       "        text-align: right;\n",
       "    }\n",
       "</style>\n",
       "<table border=\"1\" class=\"dataframe\">\n",
       "  <thead>\n",
       "    <tr style=\"text-align: right;\">\n",
       "      <th></th>\n",
       "      <th>cargo</th>\n",
       "      <th>data_fim</th>\n",
       "      <th>data_inicio</th>\n",
       "      <th>estagio</th>\n",
       "      <th>municipio</th>\n",
       "      <th>nome</th>\n",
       "    </tr>\n",
       "  </thead>\n",
       "  <tbody>\n",
       "    <tr>\n",
       "      <th>0</th>\n",
       "      <td>analista de teste junior</td>\n",
       "      <td>2018-01-01</td>\n",
       "      <td>2014-05-01</td>\n",
       "      <td>False</td>\n",
       "      <td>cargo</td>\n",
       "      <td>capgemini brasil</td>\n",
       "    </tr>\n",
       "    <tr>\n",
       "      <th>1</th>\n",
       "      <td>técnico de teleprocessamentos junior</td>\n",
       "      <td>2014-05-01</td>\n",
       "      <td>2013-04-01</td>\n",
       "      <td>False</td>\n",
       "      <td>cargo</td>\n",
       "      <td>tm solutions</td>\n",
       "    </tr>\n",
       "  </tbody>\n",
       "</table>\n",
       "</div>"
      ],
      "text/plain": [
       "                                  cargo    data_fim data_inicio  estagio  \\\n",
       "0              analista de teste junior  2018-01-01  2014-05-01    False   \n",
       "1  técnico de teleprocessamentos junior  2014-05-01  2013-04-01    False   \n",
       "\n",
       "  municipio              nome  \n",
       "0     cargo  capgemini brasil  \n",
       "1     cargo      tm solutions  "
      ]
     },
     "execution_count": 16,
     "metadata": {},
     "output_type": "execute_result"
    }
   ],
   "source": [
    "ls_emp = []\n",
    "for es in employerorg:\n",
    "    d = {}\n",
    "    \n",
    "    d['nome'] = es.find('employerorgname').text\n",
    "    \n",
    "    ph = es.find('positionhistory')\n",
    "    \n",
    "    # data de inicio\n",
    "    d['data_inicio'] = monta_data(ph.find('startdate'))\n",
    "    \n",
    "    # data de fim\n",
    "    d['data_fim'] = monta_data(ph.find('enddate'))\n",
    "    \n",
    "    # skills\n",
    "    userarea = ph.find('userarea')\n",
    "    phua = userarea.find('positionhistoryuserarea')\n",
    "    skills = phua.findall('skill')\n",
    "\n",
    "    estagio = False\n",
    "    for s in skills:\n",
    "        if re.search(r'est[a|á]gi', s.attrib['name']):\n",
    "            estagio = True\n",
    "    d['estagio'] = estagio\n",
    "\n",
    "    # cargo\n",
    "    try:\n",
    "        cargo = phua.find('normalizedtitle').text\n",
    "    except:\n",
    "        cargo = None\n",
    "    d['cargo'] = cargo\n",
    "    \n",
    "    # municipio\n",
    "    try:\n",
    "        municipio = ph.find('orginfo').find('positionlocation').find('municipality').text\n",
    "    except:\n",
    "        municipio = None\n",
    "    d['municipio'] = municipio\n",
    "    \n",
    "    ls_emp.append(d)    \n",
    "\n",
    "emp = pd.DataFrame(ls_emp)\n",
    "\n",
    "emp"
   ]
  },
  {
   "cell_type": "code",
   "execution_count": 17,
   "metadata": {},
   "outputs": [],
   "source": [
    "# checar se ha alguma data_inicio maior que data_fim\n",
    "if len(emp.loc[emp.data_inicio > emp.data_fim]):\n",
    "    raise Exception('Encontrada data de início de emprego maior que data de fim.')"
   ]
  },
  {
   "cell_type": "code",
   "execution_count": 37,
   "metadata": {},
   "outputs": [
    {
     "data": {
      "text/html": [
       "<div>\n",
       "<style scoped>\n",
       "    .dataframe tbody tr th:only-of-type {\n",
       "        vertical-align: middle;\n",
       "    }\n",
       "\n",
       "    .dataframe tbody tr th {\n",
       "        vertical-align: top;\n",
       "    }\n",
       "\n",
       "    .dataframe thead th {\n",
       "        text-align: right;\n",
       "    }\n",
       "</style>\n",
       "<table border=\"1\" class=\"dataframe\">\n",
       "  <thead>\n",
       "    <tr style=\"text-align: right;\">\n",
       "      <th></th>\n",
       "      <th>cargo</th>\n",
       "      <th>data_fim</th>\n",
       "      <th>data_inicio</th>\n",
       "      <th>estagio</th>\n",
       "      <th>municipio</th>\n",
       "      <th>nome</th>\n",
       "    </tr>\n",
       "  </thead>\n",
       "  <tbody>\n",
       "    <tr>\n",
       "      <th>0</th>\n",
       "      <td>analista de teste junior</td>\n",
       "      <td>2018-01-01</td>\n",
       "      <td>2014-05-01</td>\n",
       "      <td>False</td>\n",
       "      <td>cargo</td>\n",
       "      <td>capgemini brasil</td>\n",
       "    </tr>\n",
       "    <tr>\n",
       "      <th>1</th>\n",
       "      <td>técnico de teleprocessamentos junior</td>\n",
       "      <td>2014-05-01</td>\n",
       "      <td>2013-04-01</td>\n",
       "      <td>False</td>\n",
       "      <td>cargo</td>\n",
       "      <td>tm solutions</td>\n",
       "    </tr>\n",
       "  </tbody>\n",
       "</table>\n",
       "</div>"
      ],
      "text/plain": [
       "                                  cargo    data_fim data_inicio  estagio  \\\n",
       "0              analista de teste junior  2018-01-01  2014-05-01    False   \n",
       "1  técnico de teleprocessamentos junior  2014-05-01  2013-04-01    False   \n",
       "\n",
       "  municipio              nome  \n",
       "0     cargo  capgemini brasil  \n",
       "1     cargo      tm solutions  "
      ]
     },
     "execution_count": 37,
     "metadata": {},
     "output_type": "execute_result"
    }
   ],
   "source": [
    "# tratar datas vazias\n",
    "emp.sort_values(by=['data_fim', 'data_inicio'], ascending=False).reset_index(drop=True)"
   ]
  },
  {
   "cell_type": "markdown",
   "metadata": {},
   "source": [
    "identificar skill **estagio** e calcular quanto tempo a pessoa adquiriu esse skill, criando variável temporal **skill_estagio**"
   ]
  },
  {
   "cell_type": "code",
   "execution_count": null,
   "metadata": {},
   "outputs": [],
   "source": []
  },
  {
   "cell_type": "markdown",
   "metadata": {},
   "source": [
    "calcular tempo total de experiência, em meses, criando variável temporal **experiencia_meses**"
   ]
  },
  {
   "cell_type": "code",
   "execution_count": null,
   "metadata": {},
   "outputs": [],
   "source": []
  },
  {
   "cell_type": "markdown",
   "metadata": {},
   "source": [
    "calcular tempo no emprego atual, em meses, criando variável temporal **tempo_emprego**"
   ]
  },
  {
   "cell_type": "code",
   "execution_count": null,
   "metadata": {},
   "outputs": [],
   "source": []
  },
  {
   "cell_type": "markdown",
   "metadata": {},
   "source": [
    "calcular tempo na empresa atual, em meses, criando variável temporal **tempo_empresa**"
   ]
  },
  {
   "cell_type": "code",
   "execution_count": null,
   "metadata": {},
   "outputs": [],
   "source": []
  },
  {
   "cell_type": "markdown",
   "metadata": {},
   "source": [
    "calcular tempo no cargo atual, independente da empresa, em meses, criando variável temporal **tempo_cargo**"
   ]
  },
  {
   "cell_type": "code",
   "execution_count": null,
   "metadata": {},
   "outputs": [],
   "source": []
  },
  {
   "cell_type": "markdown",
   "metadata": {},
   "source": [
    "dividir tempo no emprego atual pelo tempo médio nos empregos, para criar variável **taxa_permanencia**"
   ]
  },
  {
   "cell_type": "code",
   "execution_count": null,
   "metadata": {},
   "outputs": [],
   "source": []
  },
  {
   "cell_type": "markdown",
   "metadata": {},
   "source": [
    "calcular tempo no município atual, a partir do município das empresas, criando variável temporal **tempo_municipio**."
   ]
  },
  {
   "cell_type": "code",
   "execution_count": null,
   "metadata": {},
   "outputs": [],
   "source": []
  }
 ],
 "metadata": {
  "kernelspec": {
   "display_name": "Python 3",
   "language": "python",
   "name": "python3"
  },
  "language_info": {
   "codemirror_mode": {
    "name": "ipython",
    "version": 3
   },
   "file_extension": ".py",
   "mimetype": "text/x-python",
   "name": "python",
   "nbconvert_exporter": "python",
   "pygments_lexer": "ipython3",
   "version": "3.6.5"
  }
 },
 "nbformat": 4,
 "nbformat_minor": 2
}
