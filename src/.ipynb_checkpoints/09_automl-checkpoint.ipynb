{
 "cells": [
  {
   "cell_type": "code",
   "execution_count": 1,
   "metadata": {},
   "outputs": [
    {
     "name": "stdout",
     "output_type": "stream",
     "text": [
      "Checking whether there is an H2O instance running at http://localhost:54321..... not found.\n",
      "Attempting to start a local H2O server...\n",
      "  Java Version: openjdk version \"1.8.0_181\"; OpenJDK Runtime Environment (build 1.8.0_181-8u181-b13-0ubuntu0.18.04.1-b13); OpenJDK 64-Bit Server VM (build 25.181-b13, mixed mode)\n",
      "  Starting server from /usr/local/lib/python2.7/dist-packages/h2o/backend/bin/h2o.jar\n",
      "  Ice root: /tmp/tmpZFXKS_\n",
      "  JVM stdout: /tmp/tmpZFXKS_/h2o_mourao_started_from_python.out\n",
      "  JVM stderr: /tmp/tmpZFXKS_/h2o_mourao_started_from_python.err\n",
      "  Server is running at http://127.0.0.1:54321\n",
      "Connecting to H2O server at http://127.0.0.1:54321... successful.\n",
      "Warning: Your H2O cluster version is too old (5 months and 17 days)! Please download and install the latest version from http://h2o.ai/download/\n"
     ]
    },
    {
     "data": {
      "text/html": [
       "<div style=\"overflow:auto\"><table style=\"width:50%\"><tr><td>H2O cluster uptime:</td>\n",
       "<td>06 secs</td></tr>\n",
       "<tr><td>H2O cluster timezone:</td>\n",
       "<td>America/Sao_Paulo</td></tr>\n",
       "<tr><td>H2O data parsing timezone:</td>\n",
       "<td>UTC</td></tr>\n",
       "<tr><td>H2O cluster version:</td>\n",
       "<td>3.18.0.4</td></tr>\n",
       "<tr><td>H2O cluster version age:</td>\n",
       "<td>5 months and 17 days !!!</td></tr>\n",
       "<tr><td>H2O cluster name:</td>\n",
       "<td>H2O_from_python_mourao_1clanf</td></tr>\n",
       "<tr><td>H2O cluster total nodes:</td>\n",
       "<td>1</td></tr>\n",
       "<tr><td>H2O cluster free memory:</td>\n",
       "<td>3.556 Gb</td></tr>\n",
       "<tr><td>H2O cluster total cores:</td>\n",
       "<td>4</td></tr>\n",
       "<tr><td>H2O cluster allowed cores:</td>\n",
       "<td>4</td></tr>\n",
       "<tr><td>H2O cluster status:</td>\n",
       "<td>accepting new members, healthy</td></tr>\n",
       "<tr><td>H2O connection url:</td>\n",
       "<td>http://127.0.0.1:54321</td></tr>\n",
       "<tr><td>H2O connection proxy:</td>\n",
       "<td>None</td></tr>\n",
       "<tr><td>H2O internal security:</td>\n",
       "<td>False</td></tr>\n",
       "<tr><td>H2O API Extensions:</td>\n",
       "<td>XGBoost, Algos, AutoML, Core V3, Core V4</td></tr>\n",
       "<tr><td>Python version:</td>\n",
       "<td>2.7.15 candidate</td></tr></table></div>"
      ],
      "text/plain": [
       "--------------------------  ----------------------------------------\n",
       "H2O cluster uptime:         06 secs\n",
       "H2O cluster timezone:       America/Sao_Paulo\n",
       "H2O data parsing timezone:  UTC\n",
       "H2O cluster version:        3.18.0.4\n",
       "H2O cluster version age:    5 months and 17 days !!!\n",
       "H2O cluster name:           H2O_from_python_mourao_1clanf\n",
       "H2O cluster total nodes:    1\n",
       "H2O cluster free memory:    3.556 Gb\n",
       "H2O cluster total cores:    4\n",
       "H2O cluster allowed cores:  4\n",
       "H2O cluster status:         accepting new members, healthy\n",
       "H2O connection url:         http://127.0.0.1:54321\n",
       "H2O connection proxy:\n",
       "H2O internal security:      False\n",
       "H2O API Extensions:         XGBoost, Algos, AutoML, Core V3, Core V4\n",
       "Python version:             2.7.15 candidate\n",
       "--------------------------  ----------------------------------------"
      ]
     },
     "metadata": {},
     "output_type": "display_data"
    }
   ],
   "source": [
    "import h2o\n",
    "from h2o.automl import H2OAutoML\n",
    "\n",
    "try:\n",
    "    h2o.cluster().shutdown()\n",
    "except AttributeError:\n",
    "    pass\n",
    "    \n",
    "h2o.init(nthreads = 6,\n",
    "#          max_mem_size = \"24G\")         \n",
    "         max_mem_size = \"4G\")"
   ]
  },
  {
   "cell_type": "code",
   "execution_count": 2,
   "metadata": {},
   "outputs": [],
   "source": [
    "my_seed = 1980"
   ]
  },
  {
   "cell_type": "code",
   "execution_count": 3,
   "metadata": {},
   "outputs": [
    {
     "name": "stdout",
     "output_type": "stream",
     "text": [
      "Parse progress: |█████████████████████████████████████████████████████████| 100%\n",
      "Parse progress: |█████████████████████████████████████████████████████████| 100%\n"
     ]
    }
   ],
   "source": [
    "treino = h2o.import_file('../data/treino.csv')\n",
    "teste = h2o.import_file('../data/teste.csv')"
   ]
  },
  {
   "cell_type": "code",
   "execution_count": 4,
   "metadata": {},
   "outputs": [],
   "source": [
    "treino['label'] = treino['label'].asfactor()\n",
    "teste['label'] = teste['label'].asfactor()"
   ]
  },
  {
   "cell_type": "code",
   "execution_count": 5,
   "metadata": {},
   "outputs": [
    {
     "name": "stdout",
     "output_type": "stream",
     "text": [
      "AutoML progress: |████████████████████████████████████████████████████████| 100%\n",
      "Parse progress: |█████████████████████████████████████████████████████████| 100%\n"
     ]
    }
   ],
   "source": [
    "# Run AutoML \n",
    "aml = H2OAutoML(max_runtime_secs=2*60*60, max_models=120, nfolds=10, stopping_metric='AUC', \n",
    "                exclude_algos=['StackedEnsemble'], seed=my_seed)\n",
    "aml.train(y='label', training_frame=treino, leaderboard_frame=teste)"
   ]
  },
  {
   "cell_type": "code",
   "execution_count": 6,
   "metadata": {},
   "outputs": [],
   "source": [
    "lb = aml.leaderboard"
   ]
  },
  {
   "cell_type": "code",
   "execution_count": 7,
   "metadata": {},
   "outputs": [
    {
     "data": {
      "text/html": [
       "<table>\n",
       "<thead>\n",
       "<tr><th>model_id                                  </th><th>auc     </th><th>logloss  </th></tr>\n",
       "</thead>\n",
       "<tbody>\n",
       "<tr><td>GBM_grid_0_AutoML_20180825_212807_model_1 </td><td>0,836442</td><td>0,188409 </td></tr>\n",
       "<tr><td>GBM_grid_0_AutoML_20180825_212807_model_0 </td><td>0,833622</td><td>0,197797 </td></tr>\n",
       "<tr><td>GBM_grid_0_AutoML_20180825_212807_model_2 </td><td>0,833006</td><td>0,184434 </td></tr>\n",
       "<tr><td>GBM_grid_0_AutoML_20180825_212807_model_5 </td><td>0,831735</td><td>0,207980 </td></tr>\n",
       "<tr><td>GBM_grid_0_AutoML_20180825_212807_model_3 </td><td>0,824111</td><td>0,171964 </td></tr>\n",
       "<tr><td>GBM_grid_0_AutoML_20180825_212807_model_4 </td><td>0,821571</td><td>0,167754 </td></tr>\n",
       "<tr><td>GBM_grid_0_AutoML_20180825_212807_model_7 </td><td>0,818892</td><td>0,142360 </td></tr>\n",
       "<tr><td>GBM_grid_0_AutoML_20180825_212807_model_10</td><td>0,818341</td><td>0,177329 </td></tr>\n",
       "<tr><td>GBM_grid_0_AutoML_20180825_212807_model_9 </td><td>0,766475</td><td>0,604557 </td></tr>\n",
       "<tr><td>GBM_grid_0_AutoML_20180825_212807_model_8 </td><td>0,763880</td><td>0,556080 </td></tr>\n",
       "</tbody>\n",
       "</table>"
      ]
     },
     "metadata": {},
     "output_type": "display_data"
    },
    {
     "data": {
      "text/plain": []
     },
     "execution_count": 7,
     "metadata": {},
     "output_type": "execute_result"
    }
   ],
   "source": [
    "lb.head()"
   ]
  },
  {
   "cell_type": "code",
   "execution_count": 9,
   "metadata": {},
   "outputs": [
    {
     "data": {
      "text/plain": [
       "u'/home/mourao/mudanca_emprego/mdl/GBM_grid_0_AutoML_20180731_054905_model_5'"
      ]
     },
     "execution_count": 9,
     "metadata": {},
     "output_type": "execute_result"
    }
   ],
   "source": [
    "h2o.save_model(aml.leader, path=\"../mdl/\")"
   ]
  },
  {
   "cell_type": "code",
   "execution_count": 16,
   "metadata": {
    "collapsed": true
   },
   "outputs": [],
   "source": [
    "uteis = ['tempo_emprego', 'idioma-en-le', 'loc-br-df', 'idioma-en-fala', 'solteiro', \n",
    "         'skill_desenvolvimento', 'skill_lideranca', 'skill_analise de sistemas',\n",
    "         'skill_estagio', 'mulher', 'experiencia_meses', 'idioma-en-escreve', 'tem_cnh', \n",
    "         'skill_administrativo', 'loc-br-sp', 'skill_processos', 'idioma-es-fala', \n",
    "         'idioma-total', 'skill_comercial', 'label']\n",
    "\n",
    "inuteis = [x for x in treino.columns if x not in uteis]"
   ]
  },
  {
   "cell_type": "code",
   "execution_count": 17,
   "metadata": {
    "collapsed": true
   },
   "outputs": [],
   "source": [
    "for i in inuteis:\n",
    "    treino = treino.drop(i)\n",
    "    teste = teste.drop(i)"
   ]
  },
  {
   "cell_type": "code",
   "execution_count": 18,
   "metadata": {
    "scrolled": false
   },
   "outputs": [
    {
     "data": {
      "text/plain": [
       "[u'label',\n",
       " u'experiencia_meses',\n",
       " u'idioma-en-escreve',\n",
       " u'idioma-en-fala',\n",
       " u'idioma-en-le',\n",
       " u'idioma-es-fala',\n",
       " u'idioma-total',\n",
       " u'loc-br-df',\n",
       " u'loc-br-sp',\n",
       " u'mulher',\n",
       " u'skill_administrativo',\n",
       " u'skill_analise de sistemas',\n",
       " u'skill_comercial',\n",
       " u'skill_desenvolvimento',\n",
       " u'skill_estagio',\n",
       " u'skill_lideranca',\n",
       " u'skill_processos',\n",
       " u'solteiro',\n",
       " u'tem_cnh',\n",
       " u'tempo_emprego']"
      ]
     },
     "execution_count": 18,
     "metadata": {},
     "output_type": "execute_result"
    }
   ],
   "source": [
    "treino.columns"
   ]
  },
  {
   "cell_type": "code",
   "execution_count": 19,
   "metadata": {},
   "outputs": [
    {
     "name": "stdout",
     "output_type": "stream",
     "text": [
      "AutoML progress: |████████████████████████████████████████████████████████| 100%\n",
      "Parse progress: |█████████████████████████████████████████████████████████| 100%\n"
     ]
    }
   ],
   "source": [
    "# Run AutoML \n",
    "aml = H2OAutoML(max_runtime_secs=1*60*60, max_models=60, nfolds=5, stopping_metric='AUC', \n",
    "                exclude_algos=['StackedEnsemble'], seed=my_seed)\n",
    "aml.train(y='label', training_frame=treino, leaderboard_frame=teste)"
   ]
  },
  {
   "cell_type": "code",
   "execution_count": 20,
   "metadata": {},
   "outputs": [
    {
     "name": "stdout",
     "output_type": "stream",
     "text": [
      "H2O session _sid_90bf closed.\n"
     ]
    }
   ],
   "source": [
    "h2o.cluster().shutdown()"
   ]
  }
 ],
 "metadata": {
  "kernelspec": {
   "display_name": "Python 2",
   "language": "python",
   "name": "python2"
  },
  "language_info": {
   "codemirror_mode": {
    "name": "ipython",
    "version": 2
   },
   "file_extension": ".py",
   "mimetype": "text/x-python",
   "name": "python",
   "nbconvert_exporter": "python",
   "pygments_lexer": "ipython2",
   "version": "2.7.15rc1"
  }
 },
 "nbformat": 4,
 "nbformat_minor": 2
}
