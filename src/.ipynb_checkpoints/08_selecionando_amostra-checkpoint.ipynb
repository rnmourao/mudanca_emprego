{
 "cells": [
  {
   "cell_type": "code",
   "execution_count": 1,
   "metadata": {},
   "outputs": [],
   "source": [
    "# coding: utf-8"
   ]
  },
  {
   "cell_type": "code",
   "execution_count": 2,
   "metadata": {},
   "outputs": [],
   "source": [
    "%matplotlib inline\n",
    "\n",
    "import pandas as pd\n",
    "import numpy as np\n",
    "from scipy import stats\n",
    "\n",
    "from sklearn.model_selection import train_test_split\n",
    "from imblearn.combine import SMOTEENN"
   ]
  },
  {
   "cell_type": "code",
   "execution_count": 3,
   "metadata": {},
   "outputs": [],
   "source": [
    "my_seed = 1980"
   ]
  },
  {
   "cell_type": "code",
   "execution_count": 4,
   "metadata": {},
   "outputs": [],
   "source": [
    "df = pd.read_csv('../data/df.csv')"
   ]
  },
  {
   "cell_type": "code",
   "execution_count": 5,
   "metadata": {
    "scrolled": true
   },
   "outputs": [
    {
     "data": {
      "text/plain": [
       "cargo_analista                122793\n",
       "cargo_consultor               122793\n",
       "cargo_engenheiro              122793\n",
       "cargo_estagiario              122793\n",
       "cargo_gerente                 122793\n",
       "casado                        122793\n",
       "curso_administracao           122793\n",
       "curso_computacao              122793\n",
       "curso_engenharia              122793\n",
       "experiencia_meses             122793\n",
       "homem                         122793\n",
       "idioma-en-fala                122793\n",
       "idioma-en-le                  122793\n",
       "idioma-eo-fala                122793\n",
       "idioma-es-escreve             122793\n",
       "idioma-es-fala                122793\n",
       "idioma-fr-fala                122793\n",
       "idioma-it-fala                122793\n",
       "idioma-ja-le                  122793\n",
       "idioma-nativo-es              122793\n",
       "idioma-pt-fala                122793\n",
       "idioma-pt-le                  122793\n",
       "idioma-ru-fala                122793\n",
       "label                         122793\n",
       "loc-br-ba                     122793\n",
       "loc-br-go                     122793\n",
       "loc-br-mg                     122793\n",
       "loc-br-ms                     122793\n",
       "loc-br-pa                     122793\n",
       "loc-br-pi                     122793\n",
       "                               ...  \n",
       "skill_servlets                122793\n",
       "skill_shell script            122793\n",
       "skill_sla                     122793\n",
       "skill_soa                     122793\n",
       "skill_solucao de seguranca    122793\n",
       "skill_storage                 122793\n",
       "skill_struts                  122793\n",
       "skill_suporte tecnico         122793\n",
       "skill_svn                     122793\n",
       "skill_tcp/ip                  122793\n",
       "skill_teste                   122793\n",
       "skill_testes unitarios        122793\n",
       "skill_tomcat                  122793\n",
       "skill_ui                      122793\n",
       "skill_ux                      122793\n",
       "skill_visual basic            122793\n",
       "skill_vulnerabilidade         122793\n",
       "skill_webapi                  122793\n",
       "skill_wildfly                 122793\n",
       "skill_windows                 122793\n",
       "skill_wireless                122793\n",
       "skill_xml                     122793\n",
       "solteiro                      122793\n",
       "tem_cnh                       122793\n",
       "tem_familia                   122793\n",
       "tempo_emprego                 122793\n",
       "tempo_empresa                 122793\n",
       "tempo_medio                   122793\n",
       "tempo_municipio               122793\n",
       "trabalho_autonomo             122793\n",
       "Length: 156, dtype: int64"
      ]
     },
     "execution_count": 5,
     "metadata": {},
     "output_type": "execute_result"
    }
   ],
   "source": [
    "df.count()"
   ]
  },
  {
   "cell_type": "code",
   "execution_count": 6,
   "metadata": {},
   "outputs": [],
   "source": [
    "treino, teste = train_test_split(df, test_size=0.3, random_state=my_seed)"
   ]
  },
  {
   "cell_type": "code",
   "execution_count": 7,
   "metadata": {},
   "outputs": [
    {
     "data": {
      "text/plain": [
       "3.7100808562619974"
      ]
     },
     "execution_count": 7,
     "metadata": {},
     "output_type": "execute_result"
    }
   ],
   "source": [
    "100 * len(treino.loc[treino['label'] == 1]) / float(len(treino))"
   ]
  },
  {
   "cell_type": "code",
   "execution_count": 8,
   "metadata": {},
   "outputs": [
    {
     "data": {
      "text/plain": [
       "3.933438297410283"
      ]
     },
     "execution_count": 8,
     "metadata": {},
     "output_type": "execute_result"
    }
   ],
   "source": [
    "100 * len(teste.loc[teste['label'] == 1]) / float(len(teste))"
   ]
  },
  {
   "cell_type": "code",
   "execution_count": 9,
   "metadata": {},
   "outputs": [],
   "source": [
    "explicativas = [x for x in treino.columns if x != 'label']"
   ]
  },
  {
   "cell_type": "code",
   "execution_count": 10,
   "metadata": {},
   "outputs": [],
   "source": [
    "X = treino[explicativas]\n",
    "y = treino['label']"
   ]
  },
  {
   "cell_type": "code",
   "execution_count": 11,
   "metadata": {},
   "outputs": [],
   "source": [
    "s = SMOTEENN(random_state=my_seed, ratio=\"all\")\n",
    "X_s, y_s = s.fit_sample(X, y)\n"
   ]
  },
  {
   "cell_type": "code",
   "execution_count": 12,
   "metadata": {},
   "outputs": [],
   "source": [
    "treino_s = pd.concat([pd.Series(y_s, name='label'),\n",
    "                   pd.DataFrame(X_s, columns=explicativas)], axis=1)"
   ]
  },
  {
   "cell_type": "code",
   "execution_count": 13,
   "metadata": {},
   "outputs": [
    {
     "data": {
      "text/plain": [
       "49.820186014467794"
      ]
     },
     "execution_count": 13,
     "metadata": {},
     "output_type": "execute_result"
    }
   ],
   "source": [
    "100 * treino_s['label'].sum() / float(len(treino_s))"
   ]
  },
  {
   "cell_type": "code",
   "execution_count": 14,
   "metadata": {},
   "outputs": [],
   "source": [
    "treino_s.to_csv('../data/treino.csv', index=False)\n",
    "teste.to_csv('../data/teste.csv', index=False)"
   ]
  }
 ],
 "metadata": {
  "kernelspec": {
   "display_name": "Python 2",
   "language": "python",
   "name": "python2"
  },
  "language_info": {
   "codemirror_mode": {
    "name": "ipython",
    "version": 2
   },
   "file_extension": ".py",
   "mimetype": "text/x-python",
   "name": "python",
   "nbconvert_exporter": "python",
   "pygments_lexer": "ipython2",
   "version": "2.7.15rc1"
  }
 },
 "nbformat": 4,
 "nbformat_minor": 2
}
