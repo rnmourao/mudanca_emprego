{
 "cells": [
  {
   "cell_type": "markdown",
   "metadata": {},
   "source": [
    "# Recuperar, Preparar e Prever\n",
    "\n",
    "O _out of time_ será semelhante ao que acontece na produção.\n"
   ]
  },
  {
   "cell_type": "code",
   "execution_count": 1,
   "metadata": {},
   "outputs": [],
   "source": [
    "import xml.etree.ElementTree as xml\n",
    "from os import listdir\n",
    "from os.path import isfile, join\n",
    "import pandas as pd\n",
    "import string\n",
    "import unicodedata\n",
    "from datetime import datetime\n",
    "from io import StringIO"
   ]
  },
  {
   "cell_type": "code",
   "execution_count": 2,
   "metadata": {},
   "outputs": [],
   "source": [
    "def efetuar_parse(texto):\n",
    "    'Limpar texto e tirar todos os prefixos de tags, retornando raiz do XML.'\n",
    "\n",
    "    # retirar quebras de linha e textos inuteis\n",
    "    texto = texto.replace(',', ' ') \\\n",
    "                 .replace('\\n', ' ') \\\n",
    "                 .replace('\\t', ' ') \\\n",
    "                 .lower()\n",
    "    \n",
    "    it = xml.iterparse(StringIO(texto))\n",
    "    for _, el in it:\n",
    "        if '}' in el.tag:\n",
    "            el.tag = el.tag.split('}', 1)[1] \\\n",
    "                           .replace('sov:', '')    \n",
    "        \n",
    "    return it.root"
   ]
  },
  {
   "cell_type": "code",
   "execution_count": 3,
   "metadata": {},
   "outputs": [],
   "source": [
    "uteis = ['homem', 'solteiro', 'tem_cnh', 'idioma-en-le', 'idioma-en-fala', 'skill_estagio', \n",
    "         'experiencia_meses', 'tempo_emprego', 'tempo_empresa', 'tempo_cargo', 'taxa_permanencia', 'tempo_municipio']"
   ]
  },
  {
   "cell_type": "markdown",
   "metadata": {},
   "source": [
    "1) recuperar arquivo xml"
   ]
  },
  {
   "cell_type": "code",
   "execution_count": 14,
   "metadata": {},
   "outputs": [],
   "source": [
    "dir_interesse = '/home/mourao/mudanca_emprego/data/out_of_time/curriculosComInteresse/'"
   ]
  },
  {
   "cell_type": "code",
   "execution_count": 5,
   "metadata": {},
   "outputs": [],
   "source": [
    "arquivos_interesse = [a for a in listdir(dir_interesse) if isfile(join(dir_interesse, a)) and '.xml' in a]"
   ]
  },
  {
   "cell_type": "code",
   "execution_count": 6,
   "metadata": {},
   "outputs": [],
   "source": [
    "arquivo = 'cv48023.xml'"
   ]
  },
  {
   "cell_type": "code",
   "execution_count": 7,
   "metadata": {
    "scrolled": false
   },
   "outputs": [],
   "source": [
    "with open(join(dir_interesse, arquivo), 'r') as r:\n",
    "        texto = r.read()"
   ]
  },
  {
   "cell_type": "code",
   "execution_count": 8,
   "metadata": {},
   "outputs": [],
   "source": [
    "# executar parse\n",
    "raiz = efetuar_parse(texto)"
   ]
  },
  {
   "cell_type": "markdown",
   "metadata": {},
   "source": [
    "2) identificar **sexo** e criar variável binária **homem**"
   ]
  },
  {
   "cell_type": "code",
   "execution_count": 9,
   "metadata": {
    "scrolled": false
   },
   "outputs": [],
   "source": [
    "sexo = raiz.find('.//gender')"
   ]
  },
  {
   "cell_type": "code",
   "execution_count": 10,
   "metadata": {},
   "outputs": [
    {
     "name": "stdout",
     "output_type": "stream",
     "text": [
      "0\n"
     ]
    }
   ],
   "source": [
    "if not sexo or sexo.text == 'female':\n",
    "    homem = 0\n",
    "else:\n",
    "    homem = 1\n",
    "\n",
    "print(homem)"
   ]
  },
  {
   "cell_type": "markdown",
   "metadata": {},
   "source": [
    "3) identificar **estado civil** e criar variável binária **solteiro**"
   ]
  },
  {
   "cell_type": "code",
   "execution_count": 11,
   "metadata": {},
   "outputs": [],
   "source": [
    "estado_civil = raiz.find('*//maritalstatus')"
   ]
  },
  {
   "cell_type": "code",
   "execution_count": 12,
   "metadata": {},
   "outputs": [
    {
     "name": "stdout",
     "output_type": "stream",
     "text": [
      "0\n"
     ]
    }
   ],
   "source": [
    "solteiro = 0\n",
    "\n",
    "if estado_civil:\n",
    "    if estado_civil.text == 'single' or estado_civil.text == 'separated' or estado_civil.text == 'divorced':\n",
    "        solteiro = 1\n",
    "\n",
    "print(solteiro)"
   ]
  },
  {
   "cell_type": "markdown",
   "metadata": {},
   "source": [
    "4) identificar **Language Read** para a língua inglesa e criar a variável binária **idioma-en-le**\n",
    "\n",
    "5) identificar **Language Speak** para a língua inglesa e criar a variável binária **idioma-en-fala**"
   ]
  },
  {
   "cell_type": "code",
   "execution_count": 13,
   "metadata": {},
   "outputs": [
    {
     "name": "stdout",
     "output_type": "stream",
     "text": [
      "0 1\n"
     ]
    }
   ],
   "source": [
    "idioma_en_le = 0\n",
    "idioma_en_fala = 0\n",
    "\n",
    "linguas = raiz.findall('*//language')\n",
    "for lingua in linguas:\n",
    "    \n",
    "    codigo = lingua.find('languagecode')\n",
    "    if codigo is not None and codigo.text == 'en':\n",
    "        \n",
    "        le = lingua.find('read')\n",
    "        if le is not None and le.text == 'true':\n",
    "            idioma_en_le = 1\n",
    "        \n",
    "        fala = lingua.find('speak')\n",
    "        if fala is not None and fala.text == 'true':\n",
    "            idioma_en_fala = 1\n",
    "            \n",
    "        break\n",
    "        \n",
    "print(idioma_en_le, idioma_en_fala)"
   ]
  },
  {
   "cell_type": "markdown",
   "metadata": {},
   "source": [
    "6) identificar dados de emprego de **employerorg** e guardá-los para efetuar cálculo das próximas variáveis"
   ]
  },
  {
   "cell_type": "markdown",
   "metadata": {},
   "source": [
    "7) identificar skill **estagio** e calcular quanto tempo a pessoa adquiriu esse skill, criando variável temporal **skill_estagio**"
   ]
  },
  {
   "cell_type": "markdown",
   "metadata": {},
   "source": [
    "8) calcular tempo total de experiência, em meses, criando variável temporal **experiencia_meses**"
   ]
  },
  {
   "cell_type": "markdown",
   "metadata": {},
   "source": [
    "9) calcular tempo no emprego atual, em meses, criando variável temporal **tempo_emprego**"
   ]
  },
  {
   "cell_type": "markdown",
   "metadata": {},
   "source": [
    "10) calcular tempo na empresa atual, em meses, criando variável temporal **tempo_empresa**"
   ]
  },
  {
   "cell_type": "markdown",
   "metadata": {},
   "source": [
    "11) calcular tempo no cargo atual, independente da empresa, em meses, criando variável temporal **tempo_cargo**"
   ]
  },
  {
   "cell_type": "markdown",
   "metadata": {},
   "source": [
    "12) dividir tempo no emprego atual pelo tempo médio nos empregos, para criar variável **taxa_permanencia**"
   ]
  },
  {
   "cell_type": "markdown",
   "metadata": {},
   "source": [
    "13) calcular tempo no município atual, a partir do município das empresas, criando variável temporal **tempo_municipio**."
   ]
  }
 ],
 "metadata": {
  "kernelspec": {
   "display_name": "Python 3",
   "language": "python",
   "name": "python3"
  },
  "language_info": {
   "codemirror_mode": {
    "name": "ipython",
    "version": 3
   },
   "file_extension": ".py",
   "mimetype": "text/x-python",
   "name": "python",
   "nbconvert_exporter": "python",
   "pygments_lexer": "ipython3",
   "version": "3.6.5"
  }
 },
 "nbformat": 4,
 "nbformat_minor": 2
}
